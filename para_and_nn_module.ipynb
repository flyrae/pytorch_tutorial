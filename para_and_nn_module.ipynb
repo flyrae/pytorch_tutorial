{
 "cells": [
  {
   "cell_type": "markdown",
   "metadata": {},
   "source": [
    "# Torch 0.4.0\n",
    "## torch.nn"
   ]
  },
  {
   "cell_type": "markdown",
   "metadata": {},
   "source": [
    "### torch.Parameters\n",
    "A kind of Tensor that is to be considered a module parameter.  \n",
    "\n",
    "Parameters are Tensor subclasses, that have a very special property when used with Module s - when they’re assigned as Module attributes they are automatically added to the list of its parameters, and will appear e.g. in parameters() iterator. Assigning a Tensor doesn’t have such effect. This is because one might want to cache some temporary state, like last hidden state of the RNN, in the model. If there was no such class as Parameter, these temporaries would get registered too\n",
    "\n",
    "**Parameters**：  \n",
    "**data**: Tensor parameter tensor  \n",
    "**requires_grad**:  Tensor bool optional"
   ]
  },
  {
   "cell_type": "markdown",
   "metadata": {},
   "source": [
    "## Containers"
   ]
  },
  {
   "cell_type": "markdown",
   "metadata": {},
   "source": [
    "### torch.nn.Module\n",
    "Base class for all neural network modules  \n",
    "Your models should also subclass this class.  \n",
    "Modules can also contain other Modules, allowing to nest them in a tree structure. You can assign the submodules as regular attributes:"
   ]
  },
  {
   "cell_type": "code",
   "execution_count": 1,
   "metadata": {
    "collapsed": true
   },
   "outputs": [],
   "source": [
    "import torch.nn as nn\n",
    "import torch.nn.functional as F\n",
    "class Model(nn.Module):\n",
    "    def __init__(self):\n",
    "        super(Model,self).__init__()\n",
    "        self.conv1 = nn.Conv2d(1,20,5)\n",
    "        self.conv2 = nn.Conv2d(20,20,5)\n",
    "    \n",
    "    def forward(self,x):\n",
    "        x = F.relu(self.conv1(x))\n",
    "        return F.relu(self.conv2(x))"
   ]
  },
  {
   "cell_type": "markdown",
   "metadata": {},
   "source": [
    "#### add_module(name,module)\n",
    "Adds a child module to the current module.  \n",
    "The module can be accessed as an attribute using the given name.    \n",
    "Parameters:\t  \n",
    "**name** (string) – name of the child module. The child module can be accessed from this module using the given name  \n",
    "**parameter** (Module) – child module to be added to the module."
   ]
  },
  {
   "cell_type": "markdown",
   "metadata": {},
   "source": [
    "#### apply(fn)\n",
    "applies fn recursively to every submodule (as returned by .children()) as well as self. Typical use includes initializing the parameters of a model (see also torch-nn-init).  \n",
    "***Parameters***:  \n",
    "**fn** (Module -> None) – function to be applied to each submodule  \n",
    "***Returns***:  \n",
    "self  "
   ]
  },
  {
   "cell_type": "code",
   "execution_count": 3,
   "metadata": {},
   "outputs": [
    {
     "name": "stdout",
     "output_type": "stream",
     "text": [
      "Linear(in_features=2, out_features=2, bias=True)\n",
      "Parameter containing:\n",
      "tensor([[1., 1.],\n",
      "        [1., 1.]], requires_grad=True)\n",
      "Linear(in_features=2, out_features=2, bias=True)\n",
      "Parameter containing:\n",
      "tensor([[1., 1.],\n",
      "        [1., 1.]], requires_grad=True)\n",
      "Sequential(\n",
      "  (0): Linear(in_features=2, out_features=2, bias=True)\n",
      "  (1): Linear(in_features=2, out_features=2, bias=True)\n",
      ")\n"
     ]
    },
    {
     "data": {
      "text/plain": [
       "Sequential(\n",
       "  (0): Linear(in_features=2, out_features=2, bias=True)\n",
       "  (1): Linear(in_features=2, out_features=2, bias=True)\n",
       ")"
      ]
     },
     "execution_count": 3,
     "metadata": {},
     "output_type": "execute_result"
    }
   ],
   "source": [
    "def init_weights(m):\n",
    "    print(m)\n",
    "    if type(m) == nn.Linear:\n",
    "        m.weight.data.fill_(1.0)\n",
    "        print(m.weight)\n",
    "\n",
    "net = nn.Sequential(nn.Linear(2,2),nn.Linear(2,2))\n",
    "net.apply(init_weights)"
   ]
  },
  {
   "cell_type": "markdown",
   "metadata": {},
   "source": [
    "#### children()\n",
    "Returns an iterator over immediate children modules.  \n",
    "\n",
    "****\n",
    "#### cpu()\n",
    "Moves all model parameters and buffers to the cpu\n",
    "\n",
    "****\n",
    "\n",
    "#### cuda(device=None)\n",
    "Moves all model parameters and buffers to the GPU.  \n",
    "This also makes associated parameters and buffers different objects. So it should be called before constructing optimizer if the module will live on GPU while being optimized.  \n",
    "***Parameters:***  \n",
    "**device**: init optional -- if specified, all parameters will be copied to that device  \n",
    "**Returns**: self (Module)\n",
    "\n",
    "***\n",
    "\n",
    "#### double()\n",
    "casts all floating point parameters and buffers to double datatype\n",
    "\n",
    "**Return** self\n",
    "\n",
    "***\n",
    "\n",
    "#### eval()\n",
    "Sets the module in evaluation mode.  \n",
    "\n",
    "This has any effect only on certain modules. See documentations of particular modules for details of their behaviors in training/evaluation mode, if they are affected, e.g. Dropout, BatchNorm, etc.\n",
    "***\n",
    "  \n",
    "#### extra_repr()\n",
    "Set the extra representation of the module  \n",
    "\n",
    "To print customized extra information, you should reimplement this method in your own modules. Both single-line and multi-line strings are acceptable.  \n",
    "***\n",
    "#### float()\n",
    "casts all floating  point parameters and buffers to float datatype  \n",
    "**return**: self\n",
    "***\n",
    "\n",
    "#### forward(*input)\n",
    "Defines the computation performed at every call.  \n",
    "Should be overridden by all subclasses.  \n",
    "***\n",
    "\n",
    "#### half()\n",
    "Casts all the floating poiny parameters and buffers to half datatype\n",
    "**Return**: self\n",
    "\n",
    "#### load_state_dict(state_dict,strict=True)\n",
    "Copies parameters and buffers from state_dict into this module and its descendants. If strict is True, then the keys of state_dict must exactly match the keys returned by this module’s state_dict() function.  \n",
    "***Parameters***:  \n",
    "**state_dict**: a dict containing parameters and persistent buffers  \n",
    "**strict**:(bool, optioanal) - whether to strictly enforce that the keys in state_dict match the keys returned by this module’s state_dict() function. Default: True  \n",
    "***\n",
    "\n",
    "#### modules()\n",
    "Returns an iterator over all modules in the network  \n",
    "*Note*: duplicate modules rae returned only once"
   ]
  },
  {
   "cell_type": "code",
   "execution_count": 6,
   "metadata": {},
   "outputs": [
    {
     "name": "stdout",
     "output_type": "stream",
     "text": [
      "0 -> Sequential(\n",
      "  (0): Linear(in_features=2, out_features=2, bias=True)\n",
      "  (1): Linear(in_features=2, out_features=2, bias=True)\n",
      ")\n",
      "1 -> Linear(in_features=2, out_features=2, bias=True)\n"
     ]
    }
   ],
   "source": [
    "l = nn.Linear(2,2)\n",
    "net = nn.Sequential(l,l)\n",
    "for idx,m in enumerate(net.modules()):\n",
    "    print(idx,'->',m)"
   ]
  },
  {
   "cell_type": "markdown",
   "metadata": {},
   "source": [
    "#### named_children()\n",
    "Returns an iterator over immediate children modules, yielding both the name of the modules as well as the module itself  \n",
    "**Yield**: (string,Module) - Tuple containing a name and child module  "
   ]
  },
  {
   "cell_type": "code",
   "execution_count": 14,
   "metadata": {},
   "outputs": [
    {
     "name": "stdout",
     "output_type": "stream",
     "text": [
      "Conv2d(2, 4, kernel_size=(4, 4), stride=(1, 1))\n",
      "Conv2d(2, 5, kernel_size=(5, 5), stride=(1, 1))\n"
     ]
    }
   ],
   "source": [
    "\n",
    "class MyModel(nn.Module):\n",
    "    def __init__(self):\n",
    "        super(MyModel,self).__init__()\n",
    "        self.conv4 = nn.Conv2d(2,4,4)\n",
    "        self.conv3 = nn.Conv2d(2,3,3)\n",
    "        self.conv5 = nn.Conv2d(2,5,5)\n",
    "model = MyModel()\n",
    "for name,module in model.named_children():\n",
    "    if name in ['conv4','conv5']:\n",
    "        print(module)"
   ]
  },
  {
   "cell_type": "markdown",
   "metadata": {},
   "source": [
    "#### named_modules(memo=None,prefix='')\n",
    "Returns an iterator over all modules in the network, yielding both the name of the module as well as the module itself.  \n",
    "**Yield**: (string,Module) - Tuple of name and module   \n",
    "*Note*: duplicate modules rae returned only once"
   ]
  },
  {
   "cell_type": "code",
   "execution_count": 16,
   "metadata": {},
   "outputs": [
    {
     "name": "stdout",
     "output_type": "stream",
     "text": [
      "0 -> ('', Sequential(\n",
      "  (0): Linear(in_features=2, out_features=2, bias=True)\n",
      "  (1): Linear(in_features=2, out_features=2, bias=True)\n",
      "  (2): Linear(in_features=3, out_features=3, bias=True)\n",
      "))\n",
      "1 -> ('0', Linear(in_features=2, out_features=2, bias=True))\n",
      "2 -> ('2', Linear(in_features=3, out_features=3, bias=True))\n"
     ]
    }
   ],
   "source": [
    "l = nn.Linear(2,2)\n",
    "net = nn.Sequential(l,l,nn.Linear(3,3))\n",
    "for idx,m in enumerate(net.named_modules()):\n",
    "    print(idx,'->',m)"
   ]
  },
  {
   "cell_type": "markdown",
   "metadata": {},
   "source": [
    "#### named_parameters(memo=None, prefix='')\n",
    "Returns an iterator over module parameters.  \n",
    "This is typically passed to an optimizer.  \n",
    "**Yields**: *Parameter*-module parameter  \n",
    "Maybe for 0.4.1, does not work under 0.4.0"
   ]
  },
  {
   "cell_type": "code",
   "execution_count": null,
   "metadata": {
    "collapsed": true
   },
   "outputs": [],
   "source": [
    "class MyModel(nn.Module):\n",
    "    def __init__(self):\n",
    "        super(MyModel,self).__init__()\n",
    "        self.conv4 = nn.Conv2d(2,4,4)\n",
    "        self.conv3 = nn.Conv2d(2,3,3)\n",
    "        self.conv5 = nn.Conv2d(2,5,5)\n",
    "    def forward(self):\n",
    "        for param in self.named_paramters():\n",
    "            if name in ['bias']:\n",
    "                print(param.size())\n",
    "a = MyModel()\n",
    "a()"
   ]
  },
  {
   "cell_type": "markdown",
   "metadata": {},
   "source": [
    "#### parameters()  \n",
    "Returns an iterator over module parameters.  \n",
    "This is typically passed to an optimizer.  \n",
    "**Yields**:\t*Parameter* – module parameter  "
   ]
  },
  {
   "cell_type": "code",
   "execution_count": 24,
   "metadata": {},
   "outputs": [
    {
     "name": "stdout",
     "output_type": "stream",
     "text": [
      "<class 'torch.Tensor'> torch.Size([20, 1, 5, 5])\n",
      "<class 'torch.Tensor'> torch.Size([20])\n",
      "<class 'torch.Tensor'> torch.Size([20, 20, 5, 5])\n",
      "<class 'torch.Tensor'> torch.Size([20])\n"
     ]
    }
   ],
   "source": [
    "import torch.nn as nn\n",
    "import torch.nn.functional as F\n",
    "class Model(nn.Module):\n",
    "    def __init__(self):\n",
    "        super(Model,self).__init__()\n",
    "        self.conv1 = nn.Conv2d(1,20,5)\n",
    "        self.conv2 = nn.Conv2d(20,20,5)\n",
    "    \n",
    "    def forward(self,x):\n",
    "        x = F.relu(self.conv1(x))\n",
    "        return F.relu(self.conv2(x))\n",
    "model = Model()\n",
    "for param in model.parameters():\n",
    "    print(type(param.data),param.size())"
   ]
  },
  {
   "cell_type": "markdown",
   "metadata": {},
   "source": [
    "#### register_backward_hook(hook):\n",
    "Registers a backward hook on the module.  \n",
    "\n",
    "The hook will be called every time the gradients with respect to module inputs are computed. The hook should have the following signature:  \n",
    ">`hook(module, grad_input,grad_output) -> Tensor or None`\n",
    "\n",
    "  \n",
    " The grad_input and grad_output may be tuples if the module has multiple inputs or outputs. The hook should not modify its arguments, but it can optionally return a new gradient with respect to input that will be used in place of grad_input in subsequent computations.  \n",
    "**Returns**:\ta handle that can be used to remove the added hook by calling handle.remove()  \n",
    "**Return type**:\ttorch.utils.hooks.RemovableHandle\n",
    "\n",
    "***\n",
    "#### register_forward_hook(hook)\n",
    "Registers a forward hook on the module.  \n",
    "The hook will be called every time after `forward()` has computed an output.   \n",
    "It should have the following signature:   \n",
    ">`hook(module, input, output) -> None`   \n",
    "\n",
    "The hook should not modify the input or output.  \n",
    "**Returns**:\ta handle that can be used to remove the added hook by calling `handle.remove()`  \n",
    "**Return type**:\ttorch.utils.hooks.RemovableHandle\n",
    "\n",
    "***\n",
    "#### register_forward_pre_hook(hook)\n",
    "Registers a forward pre-hook on the module.  \n",
    "The hook will be called every time before `forward()` is invoked. It should have the following signature:  \n",
    ">`hook(module, input) -> None`  \n",
    "\n",
    "The hook should not modify the input.  \n",
    "**Returns**:\ta handle that can be used to remove the added hook by calling `handle.remove()`  \n",
    "**Return type**:\ttorch.utils.hooks.RemovableHandle\n",
    "\n",
    "\n",
    "***\n",
    "#### register_buffer(name, tensor)\n",
    "Adds a persistent buffer to the module.  \n",
    "This is typically used to register a buffer that should not to be considered a model parameter. For example, BatchNorm’s running_mean is not a parameter, but is part of the persistent state.  \n",
    "Buffers can be accessed as attributes using given names.  \n",
    "***Parameters***:\t\n",
    "**name** (string) – name of the buffer. The buffer can be accessed from this module using the given name  \n",
    "**tensor** (Tensor) – buffer to be registered.\n",
    "\n",
    ">` self.register_buffer('running_mean', torch.zeros(num_features))`\n",
    "\n",
    "***\n",
    "#### register_parameter(name, param)\n",
    "Adds a parameter to the module.  \n",
    "The parameter can be accessed as an attribute using given name.  \n",
    "***Parameters***:\t  \n",
    "**name** (string) – name of the parameter. The parameter can be accessed from this module using the given name  \n",
    "**parameter** (Parameter) – parameter to be added to the module.   \n",
    "\n",
    "***\n",
    "#### state_dict(destination=None,prefix='',kepp_vars=False)  \n",
    "Returns a dictionary containing a whole state of the module.  \n",
    "Both parameters and persistent buffers(e.g. running averges) are included. Keys are corresponding parameter and buffer names.  \n",
    "**Returns**: a dictionary containing a whole state of the module  \n",
    "**Return type**: dict"
   ]
  },
  {
   "cell_type": "code",
   "execution_count": 25,
   "metadata": {},
   "outputs": [
    {
     "data": {
      "text/plain": [
       "odict_keys(['weight', 'bias'])"
      ]
     },
     "execution_count": 25,
     "metadata": {},
     "output_type": "execute_result"
    }
   ],
   "source": [
    "module = nn.Linear(2,2)\n",
    "module.state_dict().keys()"
   ]
  },
  {
   "cell_type": "markdown",
   "metadata": {},
   "source": [
    "####  to(*args,**kwargs)  \n",
    "Moves and/or catsts the parameters and buffers.  \n",
    "This can be called as  \n",
    ">to(deviece=None, dtype=None, non_bolocking=False)\n",
    "\n",
    "\n",
    ">to(dtype,non_blocking=False)\n",
    "\n",
    "\n",
    ">to(tensor,non_blocking=False)\n",
    "\n",
    "Its signature is similar to torch.Tensor.to(), but only accepts floating point desired dtype s. In addition, this method will only cast the floating point parameters and buffers to dtype (if given). The integral parameters and buffers will be moved device, if that is given, but with dtypes unchanged. When non_blocking is set, it tries to convert/move asynchronously with respect to the host if possible, e.g., moving CPU Tensors with pinned memory to CUDA devices.\n",
    "\n",
    "***Parameters***:\n",
    "**device**:torch.device the desired device of the paraeters asnd buffers in this module  \n",
    "**dtype**: torch.dtype the desired floating point type of the floating point parameters and buffers in this module  \n",
    "**tensor**: torch.Tensor Tensor whose dtype and device are the desired dtype and device for all parameters and buffers in this module  \n",
    "\n",
    "**Returns**: self\n"
   ]
  },
  {
   "cell_type": "code",
   "execution_count": 28,
   "metadata": {},
   "outputs": [
    {
     "data": {
      "text/plain": [
       "Parameter containing:\n",
       "tensor([[-0.2885, -0.3279],\n",
       "        [-0.1780,  0.5448]], requires_grad=True)"
      ]
     },
     "execution_count": 28,
     "metadata": {},
     "output_type": "execute_result"
    }
   ],
   "source": [
    "import torch\n",
    "linear = nn.Linear(2,2)\n",
    "linear.weight"
   ]
  },
  {
   "cell_type": "code",
   "execution_count": 29,
   "metadata": {},
   "outputs": [
    {
     "data": {
      "text/plain": [
       "Linear(in_features=2, out_features=2, bias=True)"
      ]
     },
     "execution_count": 29,
     "metadata": {},
     "output_type": "execute_result"
    }
   ],
   "source": [
    "linear.to(torch.double)"
   ]
  },
  {
   "cell_type": "code",
   "execution_count": 30,
   "metadata": {},
   "outputs": [
    {
     "data": {
      "text/plain": [
       "Parameter containing:\n",
       "tensor([[-0.2885, -0.3279],\n",
       "        [-0.1780,  0.5448]], dtype=torch.float64, requires_grad=True)"
      ]
     },
     "execution_count": 30,
     "metadata": {},
     "output_type": "execute_result"
    }
   ],
   "source": [
    "linear.weight"
   ]
  },
  {
   "cell_type": "code",
   "execution_count": 31,
   "metadata": {},
   "outputs": [
    {
     "data": {
      "text/plain": [
       "Linear(in_features=2, out_features=2, bias=True)"
      ]
     },
     "execution_count": 31,
     "metadata": {},
     "output_type": "execute_result"
    }
   ],
   "source": [
    "gpu1 = torch.device(\"cuda:1\")\n",
    "linear.to(gpu1,dtype=torch.half,non_blocking=True)"
   ]
  },
  {
   "cell_type": "code",
   "execution_count": 32,
   "metadata": {},
   "outputs": [
    {
     "data": {
      "text/plain": [
       "Parameter containing:\n",
       "tensor([[-0.2886, -0.3279],\n",
       "        [-0.1780,  0.5449]],\n",
       "       device='cuda:1', dtype=torch.float16, requires_grad=True)"
      ]
     },
     "execution_count": 32,
     "metadata": {},
     "output_type": "execute_result"
    }
   ],
   "source": [
    "linear.weight"
   ]
  },
  {
   "cell_type": "code",
   "execution_count": 33,
   "metadata": {
    "collapsed": true
   },
   "outputs": [],
   "source": [
    "cpu = torch.device(\"cpu\")"
   ]
  },
  {
   "cell_type": "code",
   "execution_count": 34,
   "metadata": {},
   "outputs": [
    {
     "data": {
      "text/plain": [
       "Linear(in_features=2, out_features=2, bias=True)"
      ]
     },
     "execution_count": 34,
     "metadata": {},
     "output_type": "execute_result"
    }
   ],
   "source": [
    "linear.to(cpu)"
   ]
  },
  {
   "cell_type": "code",
   "execution_count": 35,
   "metadata": {},
   "outputs": [
    {
     "data": {
      "text/plain": [
       "Parameter containing:\n",
       "tensor([[-0.2886, -0.3279],\n",
       "        [-0.1780,  0.5449]], dtype=torch.float16, requires_grad=True)"
      ]
     },
     "execution_count": 35,
     "metadata": {},
     "output_type": "execute_result"
    }
   ],
   "source": [
    "linear.weight"
   ]
  },
  {
   "cell_type": "markdown",
   "metadata": {},
   "source": [
    "#### train(mode=True)\n",
    "Sets the module in training mode.  \n",
    "This has any effect only on certian modules.\n",
    "**Retuens**: self\n",
    "**Return type**: Module\n",
    "\n",
    "#### type(dst_type)\n",
    "Casts all parameters and buffers to dst_type>\n",
    "***Parameters***: **dst_type**: (type or string)\n",
    "**Returns**: self  \n",
    "**Return type**: Module\n",
    "\n",
    "\n",
    "### zero_grad()\n",
    "Sets gradients of all model parameters to zero."
   ]
  },
  {
   "cell_type": "markdown",
   "metadata": {},
   "source": [
    "\n"
   ]
  }
 ],
 "metadata": {
  "kernelspec": {
   "display_name": "Python 3",
   "language": "python",
   "name": "python3"
  },
  "language_info": {
   "codemirror_mode": {
    "name": "ipython",
    "version": 3
   },
   "file_extension": ".py",
   "mimetype": "text/x-python",
   "name": "python",
   "nbconvert_exporter": "python",
   "pygments_lexer": "ipython3",
   "version": "3.6.2"
  }
 },
 "nbformat": 4,
 "nbformat_minor": 2
}
